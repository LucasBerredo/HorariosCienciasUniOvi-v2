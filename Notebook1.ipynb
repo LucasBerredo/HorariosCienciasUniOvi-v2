{
 "cells": [
  {
   "cell_type": "markdown",
   "id": "566c9a4a",
   "metadata": {},
   "source": [
    "### Módulos"
   ]
  },
  {
   "cell_type": "code",
   "execution_count": 47,
   "id": "7a85d26c",
   "metadata": {},
   "outputs": [],
   "source": [
    "import csv\n",
    "import re\n",
    "from datetime import datetime, time\n",
    "import uuid\n",
    "import os"
   ]
  },
  {
   "cell_type": "markdown",
   "id": "3a7f1afb",
   "metadata": {},
   "source": [
    "### Conversión formato"
   ]
  },
  {
   "cell_type": "code",
   "execution_count": 48,
   "id": "3dfb09b0",
   "metadata": {},
   "outputs": [],
   "source": [
    "time_range_pattern = re.compile(r\"^\\s*(?P<h1>\\d{1,2})h(?P<m1>\\d{2})'\\s*-\\s*(?P<h2>\\d{1,2})h(?P<m2>\\d{2})'\\s*$\")\n",
    "\n",
    "def parse_time(time_str, date_str):\n",
    "    date_obj = datetime.strptime(date_str, \"%d/%m/%y\").date()\n",
    "    m = time_range_pattern.match(time_str)\n",
    "    if not m:\n",
    "        raise ValueError(f\"Time range string not in expected format: {time_str!r}\")\n",
    "    \n",
    "    # Extract and convert\n",
    "    h1 = int(m.group('h1'))\n",
    "    m1 = int(m.group('m1'))\n",
    "    h2 = int(m.group('h2'))\n",
    "    m2 = int(m.group('m2'))\n",
    "    \n",
    "    # Build time objects (will raise ValueError if out-of-range)\n",
    "    t1 = time(hour=h1, minute=m1)\n",
    "    t2 = time(hour=h2, minute=m2)\n",
    "    \n",
    "    # Combine with the provided date\n",
    "    start_dt = datetime.combine(date_obj, t1).strftime(\"%Y%m%dT%H%M%SZ\")\n",
    "    end_dt = datetime.combine(date_obj, t2).strftime(\"%Y%m%dT%H%M%SZ\")\n",
    "    \n",
    "    return start_dt, end_dt"
   ]
  },
  {
   "cell_type": "markdown",
   "id": "681ddf9b",
   "metadata": {},
   "source": [
    "### Apertura de archivo"
   ]
  },
  {
   "cell_type": "code",
   "execution_count": 49,
   "id": "84afb807",
   "metadata": {},
   "outputs": [],
   "source": [
    "def parse_class_schedule(file_path, subjectName):\n",
    "    classes = []\n",
    "    \n",
    "    with open(file_path, mode='r', encoding='utf-8') as f:\n",
    "        reader = csv.reader(f, delimiter=';')\n",
    "        found_header = False\n",
    "        for row in reader:\n",
    "\n",
    "            if not found_header:\n",
    "                if len(row) > 6 and row[1] == \"Grupo\" and row[2] == \"Clase nº\":\n",
    "                    found_header = True\n",
    "                continue\n",
    "\n",
    "            # A valid class row contains \"Clase\", \"Grupo\", \"Día\", etc.\n",
    "            if any(\"Clase\" in cell for cell in row) and \"Listado de clases\" not in row[0]:\n",
    "                # Extract only relevant parts\n",
    "                grupo = row[1].strip()\n",
    "                fecha = row[5].strip()\n",
    "                hora = row[6].strip()\n",
    "                aula = row[7].strip()\n",
    "\n",
    "                inicio, fin = parse_time(hora, fecha)\n",
    "\n",
    "                class_entry = {\n",
    "                    \"subjectName\": subjectName,\n",
    "                    \"groupName\": grupo,\n",
    "                    \"beginDate\": inicio,\n",
    "                    \"endDate\": fin,\n",
    "                    \"location\": aula\n",
    "                }\n",
    "                \n",
    "                classes.append(class_entry)\n",
    "    \n",
    "    return classes"
   ]
  },
  {
   "cell_type": "markdown",
   "id": "72ee00a4",
   "metadata": {},
   "source": [
    "### Generación eventos\n",
    "\n",
    "Abre un archivo proporcionado, sin destruirlo, y añade el evento de los parámetros"
   ]
  },
  {
   "cell_type": "code",
   "execution_count": 50,
   "id": "a50bdff8",
   "metadata": {},
   "outputs": [],
   "source": [
    "def generate_event(file, subjectName, groupName, beginDate, endDate, location):\n",
    "    timestamp = datetime.now().strftime(\"%Y%m%dT%H%M%SZ\")\n",
    "    event_uid = str(uuid.uuid4())\n",
    "\n",
    "    with open(file, \"a\") as f:\n",
    "        f.write(\"BEGIN:VEVENT\\n\")\n",
    "        f.write(f\"UID:{event_uid}\\n\")\n",
    "        f.write(f\"DTSTAMP:{timestamp}\\n\")\n",
    "        f.write(f\"CREATED:{timestamp}\\n\")\n",
    "        f.write(f\"LAST-MODIFIED:{timestamp}\\n\")\n",
    "        f.write(f\"DTSTART;TZID=Europe/Madrid:{beginDate}\\n\")\n",
    "        f.write(f\"DTEND;TZID=Europe/Madrid:{endDate}\\n\")\n",
    "        f.write(\"TRANSP:OPAQUE\\n\")\n",
    "        f.write(f\"SUMMARY:{subjectName} - {groupName}\\n\")\n",
    "        f.write(f\"LOCATION:{location}\\n\")\n",
    "        f.write(\"SEQUENCE:0\\n\")\n",
    "        f.write(\"END:VEVENT\\n\")"
   ]
  },
  {
   "cell_type": "markdown",
   "id": "b18e71d0",
   "metadata": {},
   "source": [
    "### Bucle principal"
   ]
  },
  {
   "cell_type": "code",
   "execution_count": null,
   "id": "7ce6049a",
   "metadata": {},
   "outputs": [
    {
     "name": "stdout",
     "output_type": "stream",
     "text": [
      "Elec\n"
     ]
    }
   ],
   "source": [
    "\n",
    "current_dir = os.getcwd()\n",
    "\n",
    "files = [f for f in os.listdir(current_dir) if os.path.isfile(os.path.join(current_dir, f)) and os.path.abspath(os.path.join(current_dir, f)) not in [os.path.join(\"Notebook1.ipynb\")]]\n",
    "\n",
    "\n",
    "for file in files:\n",
    "    subjectName = re.match(r\"^(.*?)_\", file)\n",
    "    if subjectName:\n",
    "        subjectName = subjectName.group(1)\n",
    "        input_file = file\n",
    "        output_file = f\"{current_dir}/{subjectName}.ics\"\n",
    "\n",
    "        CE = \"CE\"+str(input(f\"\\nCuál es el grupo de CE para {subjectName}? Si no hay, deja en blanco\\n\"))\n",
    "        PA = \"PA\"+str(input(f\"\\nCuál es el grupo de PA para {subjectName}? Si no hay, deja en blanco\\n\"))\n",
    "        TG = \"TG\"+str(input(f\"\\nCuál es el grupo de TG para {subjectName}? Si no hay, deja en blanco\\n\"))\n",
    "        PL = \"PL\"+str(input(f\"\\nCuál es el grupo de PL para {subjectName}? Si no hay, deja en blanco\\n\"))\n",
    "\n",
    "        groups = [CE, PA, TG, PL]\n",
    "\n",
    "        classes = parse_class_schedule(input_file, subjectName)\n",
    "\n",
    "        with open(output_file, \"w\") as f:\n",
    "            f.write(\"BEGIN:VCALENDAR\\n\")\n",
    "            f.write(\"VERSION:2.0\\n\")\n",
    "            f.write(\"CALSCALE:GREGORIAN\\n\")\n",
    "            f.write(\"METHOD:PUBLISH\\n\")\n",
    "            f.write(\"PRODID:-//lucasberredo//EN\\n\")\n",
    "            f.write(\"X-WR-CALNAME: Horario 24-25\\n\")\n",
    "\n",
    "        for event in classes:\n",
    "            if event[\"groupName\"] in groups:\n",
    "                generate_event(output_file, event[\"subjectName\"], event[\"groupName\"], event[\"beginDate\"], event[\"endDate\"], event[\"location\"])\n",
    "\n",
    "        with open(output_file, \"a\") as f:\n",
    "            f.write(\"END:VCALENDAR\\n\")"
   ]
  }
 ],
 "metadata": {
  "kernelspec": {
   "display_name": ".venv",
   "language": "python",
   "name": "python3"
  },
  "language_info": {
   "codemirror_mode": {
    "name": "ipython",
    "version": 3
   },
   "file_extension": ".py",
   "mimetype": "text/x-python",
   "name": "python",
   "nbconvert_exporter": "python",
   "pygments_lexer": "ipython3",
   "version": "3.13.5"
  }
 },
 "nbformat": 4,
 "nbformat_minor": 5
}
